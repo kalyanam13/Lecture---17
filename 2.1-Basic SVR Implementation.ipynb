{
 "cells": [
  {
   "cell_type": "markdown",
   "metadata": {
    "id": "Axw2b2T_qIqr"
   },
   "source": [
    "## Support Vector Regressor Implementation"
   ]
  },
  {
   "cell_type": "code",
   "execution_count": 1,
   "metadata": {
    "executionInfo": {
     "elapsed": 5,
     "status": "ok",
     "timestamp": 1693385869774,
     "user": {
      "displayName": "Vipil Khapre",
      "userId": "11657927420291305997"
     },
     "user_tz": -330
    },
    "id": "OtNC7x5AqIqt"
   },
   "outputs": [],
   "source": [
    "import pandas as pd\n",
    "import numpy as np\n",
    "import seaborn as sns\n",
    "import matplotlib.pyplot as plt"
   ]
  },
  {
   "cell_type": "code",
   "execution_count": 3,
   "metadata": {
    "executionInfo": {
     "elapsed": 1841,
     "status": "ok",
     "timestamp": 1693385873397,
     "user": {
      "displayName": "Vipil Khapre",
      "userId": "11657927420291305997"
     },
     "user_tz": -330
    },
    "id": "OHmYNrngqIqw"
   },
   "outputs": [],
   "source": [
    "## Lets create synthetic data points\n",
    "from sklearn.datasets import make_regression"
   ]
  },
  {
   "cell_type": "code",
   "execution_count": 4,
   "metadata": {
    "executionInfo": {
     "elapsed": 11,
     "status": "ok",
     "timestamp": 1693385873398,
     "user": {
      "displayName": "Vipil Khapre",
      "userId": "11657927420291305997"
     },
     "user_tz": -330
    },
    "id": "zl7NMDd8qIqx"
   },
   "outputs": [],
   "source": [
    "X,y=make_regression(n_samples=1000,n_features=2,n_targets=1,noise=3.0)"
   ]
  },
  {
   "cell_type": "code",
   "execution_count": 5,
   "metadata": {
    "colab": {
     "base_uri": "https://localhost:8080/"
    },
    "executionInfo": {
     "elapsed": 8,
     "status": "ok",
     "timestamp": 1693385878650,
     "user": {
      "displayName": "Vipil Khapre",
      "userId": "11657927420291305997"
     },
     "user_tz": -330
    },
    "id": "_76mOhJZqIqx",
    "outputId": "7a9be647-fb83-4cdc-b611-330be4db0b85"
   },
   "outputs": [
    {
     "data": {
      "text/plain": [
       "array([[ 2.72075738, -0.31039039],\n",
       "       [ 0.23715285,  1.10679911],\n",
       "       [-0.66350852, -0.53688108],\n",
       "       ...,\n",
       "       [-2.21282587,  0.31531333],\n",
       "       [-1.55699437,  0.13673358],\n",
       "       [-0.94057828, -0.22081937]])"
      ]
     },
     "execution_count": 5,
     "metadata": {},
     "output_type": "execute_result"
    }
   ],
   "source": [
    "X"
   ]
  },
  {
   "cell_type": "code",
   "execution_count": 6,
   "metadata": {
    "colab": {
     "base_uri": "https://localhost:8080/"
    },
    "executionInfo": {
     "elapsed": 9,
     "status": "ok",
     "timestamp": 1693385881569,
     "user": {
      "displayName": "Vipil Khapre",
      "userId": "11657927420291305997"
     },
     "user_tz": -330
    },
    "id": "JhvzUeMFqIqz",
    "outputId": "eb84e249-aede-46a0-d9de-411749004e2b"
   },
   "outputs": [
    {
     "data": {
      "text/plain": [
       "array([ 1.39854033e+02,  5.59944921e+01, -6.18390752e+01,  1.70700909e+01,\n",
       "        6.76571180e+01, -6.74408431e+01,  1.44532337e+02,  3.14924510e+01,\n",
       "        5.31196003e+01, -2.10445987e+02,  1.86309457e+02, -9.47585983e+00,\n",
       "       -8.05590927e+01,  5.28489302e+01, -6.87324344e+01, -2.66909115e+01,\n",
       "        6.42664837e+00, -4.91213898e+01,  2.11044869e+01,  3.55644517e+00,\n",
       "        6.85702363e+00, -6.89695225e+01, -3.40419159e+01, -5.04998304e+01,\n",
       "        2.44380904e+00,  5.20580791e+01,  1.32113922e+02, -1.89808129e+02,\n",
       "        3.91760246e+01, -1.91835325e+01, -2.14151588e+01, -1.56704771e+02,\n",
       "       -7.14392553e+01,  7.15139686e+01, -3.31578996e+01,  4.04380841e+00,\n",
       "       -4.83300604e+00, -3.16760423e+01, -3.79410476e+00,  1.73180791e+01,\n",
       "        7.19465765e+01, -5.19745630e+01,  9.40227993e+01,  3.03452479e+01,\n",
       "        5.64342417e+00,  3.98944761e+01,  1.44448635e+02,  7.14348293e+00,\n",
       "        4.93987192e+01, -8.73653678e+01,  1.61728807e+02,  6.63336072e+01,\n",
       "       -8.27773271e+01, -2.06373227e+01, -1.06613330e+02, -7.55902655e+01,\n",
       "        4.87083081e-01,  1.01251985e+02,  8.81467370e+00,  8.57535458e+01,\n",
       "       -3.03886496e+01, -4.50983102e+01,  8.52498897e+01, -3.83524926e+01,\n",
       "        6.28780104e+01, -3.58108947e+01,  5.51884688e+00,  7.79827941e+01,\n",
       "        7.19268744e+01, -9.99069265e+01, -2.86674192e+01,  4.77968685e+01,\n",
       "        1.71827764e+01,  5.36730278e+01, -7.71322511e+01, -2.26024059e+01,\n",
       "        5.87538793e+01,  2.26929532e+01, -5.03522194e+01, -8.46118094e+01,\n",
       "        3.72511847e+01,  1.68530437e+01,  2.30155434e+01,  1.31072226e+00,\n",
       "       -4.09036292e+01, -3.57092058e+01,  7.87070015e+01,  1.13075424e+02,\n",
       "        2.00729764e+01,  1.51732539e+01,  1.14098925e+01, -1.60179639e+02,\n",
       "        5.16276157e+01, -1.22012330e+01, -1.28303402e+02, -7.40078181e+01,\n",
       "       -1.41185705e+02, -1.09950771e+02,  3.95643035e+01,  9.07132209e+01,\n",
       "       -9.26652383e+01,  1.68014681e+02,  1.29909465e+01, -7.63760062e+00,\n",
       "        4.16808799e+01,  9.49623655e+01,  8.14705715e+00, -4.13979313e+01,\n",
       "        1.06114100e+02,  1.19852324e+01, -9.95467716e+01, -1.16856279e+02,\n",
       "       -4.97070223e+01,  2.75765475e+01,  9.59480692e+01, -1.19704264e+02,\n",
       "       -2.27397022e+01,  6.48749240e+00,  4.99869310e+01,  2.57657439e+01,\n",
       "       -5.98604101e+01, -5.77090655e+01,  7.32724542e+00,  4.31617764e+01,\n",
       "       -6.02711589e+00,  3.30330330e+01, -4.42929457e+01, -5.86310196e+01,\n",
       "        1.15572799e+01, -1.43839640e+02,  1.34125295e+02, -1.57117287e+00,\n",
       "        3.84142083e+01,  5.52480683e+01, -7.44838004e+01,  5.75167154e+01,\n",
       "       -4.45769381e+01,  2.70509745e+01,  1.93856144e+01,  1.40347688e+01,\n",
       "        8.20728027e+01,  2.12609027e+01, -4.81215420e+01,  4.01817041e+01,\n",
       "       -1.72774475e+01, -3.37582586e+01, -3.86110154e+01, -3.92808730e+01,\n",
       "        6.51864454e+01,  5.87722649e+01, -6.03566373e+01, -6.24549100e+00,\n",
       "       -3.90836260e+01,  2.09313582e+01,  2.91743840e+01,  4.54231933e+01,\n",
       "        3.96275165e+01,  1.04139129e+01, -1.18211403e+02,  3.47744724e+01,\n",
       "       -1.47918440e+02, -4.38490749e+01, -8.73135650e+01, -1.05928370e+02,\n",
       "       -5.33331191e+01, -3.22876765e+01, -1.24621992e+02,  4.11060296e+01,\n",
       "       -6.17436987e+01, -1.68858662e+01, -2.45341095e+01, -5.51515996e+01,\n",
       "        9.88255521e+00,  3.97387458e+01, -1.06932540e+02,  1.56220601e+02,\n",
       "       -1.06448193e+02,  1.47250690e+01, -3.70174909e+01, -8.49801321e+00,\n",
       "       -6.23753012e+01, -1.37146526e+02,  6.62231368e+01,  4.95659975e+00,\n",
       "        3.57641430e+01, -8.81238265e+01,  3.71979981e+01,  5.24855987e+01,\n",
       "       -2.03957349e+01, -2.46949952e-01,  6.06144037e+01,  6.89101782e+01,\n",
       "       -1.80155584e+01, -9.66799632e+01, -8.29100529e+01,  5.23246811e+01,\n",
       "        1.39766952e+02,  1.61121699e+01,  1.29257326e+02,  1.88474506e+01,\n",
       "       -1.04692060e+02, -2.58153683e+01,  6.77917390e+00,  1.19190917e+01,\n",
       "       -1.48509709e+02, -1.40427355e+01,  2.37210390e+01, -3.05541937e+01,\n",
       "       -6.83603500e+01, -6.21578959e+01,  7.27861623e+00, -3.79481088e+01,\n",
       "        3.90391861e+01,  4.32990509e+01, -5.30666173e+01,  5.35510899e+01,\n",
       "       -1.59812132e+02,  3.32067135e+01,  3.16157687e+01,  2.51471512e+00,\n",
       "       -3.71759602e+01, -6.65026248e+01, -1.52897311e+00, -3.92950177e+00,\n",
       "        1.60434476e+02,  1.06156044e+01,  3.49739089e+01, -3.41280793e+01,\n",
       "       -2.97803338e+01,  2.98453649e+01,  2.15915728e+01,  1.25888546e+02,\n",
       "       -5.59720932e+01, -9.16114762e+01, -6.11042864e+01, -3.23570592e+00,\n",
       "        8.33334475e+01, -1.11234846e+01, -3.96783861e+01, -1.18614446e+01,\n",
       "        6.25116773e+00, -7.04023798e+01,  2.89619843e+01,  1.17170144e+02,\n",
       "        4.02707079e+01, -6.08289686e+00,  1.36881791e+02, -3.84641906e+01,\n",
       "        6.74508948e+01, -3.83063123e+00,  1.07807342e+02, -7.78147747e+00,\n",
       "       -6.59533060e+01, -9.28907330e+01,  7.12917358e+00, -1.13649746e+02,\n",
       "       -2.16496538e+00,  6.63956619e+01, -7.19242852e+01,  1.27816372e+02,\n",
       "       -3.19314900e+01,  7.08388885e+01,  7.50938868e+01, -3.86882693e-01,\n",
       "        6.46070441e+01, -5.60468960e+00, -2.49549312e+01, -9.06592784e+01,\n",
       "       -8.26235150e+00, -3.38746284e+01,  2.51210740e+01, -3.98492157e+01,\n",
       "        3.41893890e+01,  6.15686259e+01, -1.98323728e+01,  2.31095443e+01,\n",
       "       -9.63742325e+01, -4.23717671e+01,  3.93911318e+01,  3.34180619e+00,\n",
       "        7.97384250e+01,  1.96635462e+02,  4.61833313e+01,  8.81262169e+01,\n",
       "       -2.09395623e+01, -2.04509124e+01, -4.59089151e+01, -6.34717801e+01,\n",
       "       -4.21484693e+01,  9.68210185e+00,  1.92248003e+01,  3.35560744e+01,\n",
       "       -5.43998614e+01, -5.16851910e+01,  8.56813464e+01, -7.79265290e+01,\n",
       "       -4.78571853e+01, -9.66431939e+01, -1.88809863e+01, -8.98962949e+01,\n",
       "        4.17987892e+00,  4.35376364e+00, -9.91327504e+01,  3.79582173e+01,\n",
       "        1.23664796e+02, -6.18517249e+01,  4.52021062e+01,  1.67654822e+01,\n",
       "        4.92998160e+01,  1.05723064e+02,  1.36243749e+01, -3.54665566e+01,\n",
       "       -1.14999643e+02, -5.16353367e+01,  3.25884144e+01,  5.52956085e+01,\n",
       "        4.66234478e+01,  8.53206071e+01,  1.58801796e+02, -7.90167917e+01,\n",
       "        7.24833637e+01, -3.23889442e+01,  7.56406232e+00, -3.98315897e+01,\n",
       "       -5.40441057e+00,  9.80483463e+01, -6.01892951e+01, -5.16949698e+00,\n",
       "        2.45174785e+02,  5.35299887e+01, -7.03037260e+01, -2.96376043e+01,\n",
       "        1.33533174e+01, -6.00380985e+01, -4.16657745e+01,  5.87047414e+01,\n",
       "       -1.32292546e+02,  6.26396902e+01,  2.07689205e+01, -7.52889838e+01,\n",
       "       -1.47267636e+01,  4.25124873e+01,  9.07329963e+01,  3.96631777e+00,\n",
       "        4.77048287e+01, -7.04184812e+01, -1.31349578e+01,  2.10235989e+00,\n",
       "        3.42175771e+01, -4.35891469e+01, -8.36622103e+01,  1.23623486e+01,\n",
       "        8.74060497e+01, -1.21328271e+01, -5.60373038e+01,  1.30531723e+00,\n",
       "       -8.64643154e+01,  3.25686072e+01, -4.91255035e+01,  4.10190181e+01,\n",
       "        3.30397609e+01,  6.99285532e+00,  2.54200444e+01, -4.57459825e+01,\n",
       "        7.38780998e+01, -8.36200582e+01, -2.54452708e+01,  9.94067234e+00,\n",
       "        2.67591321e+01, -6.96540397e+01,  1.14028697e+02,  1.98533737e+01,\n",
       "        5.13043881e+01, -9.39701648e+01, -1.53543962e+02, -3.61977341e+01,\n",
       "       -9.20244293e+01, -2.45221802e+01,  3.04540122e+01, -5.13486075e+00,\n",
       "       -4.81903587e+01, -3.80661320e+01,  1.03977614e+02,  7.10987799e+01,\n",
       "        8.26591527e+01, -5.16676443e+01, -1.12990359e+02, -5.83072577e+01,\n",
       "       -4.24562718e+01,  1.47245355e+02, -3.07754113e+01,  2.75190146e+01,\n",
       "        1.08322308e+02,  2.89018467e+01, -8.17275895e+01,  5.41043354e+00,\n",
       "       -1.69626653e+01, -3.82894958e+01,  1.00132383e+02,  3.28594240e+01,\n",
       "       -7.98247852e+00,  1.33867647e+02, -1.00137237e+02, -4.32219806e-01,\n",
       "        7.03846218e+01, -3.66363079e+01, -2.81002636e+00, -6.78696049e+01,\n",
       "       -5.46717976e+01,  4.37533806e+01, -4.74204647e+01, -3.52664737e+01,\n",
       "       -1.01392141e+02, -4.59776328e+01, -1.17179148e+02,  9.65506884e+01,\n",
       "        3.02203163e+01,  3.83609620e+01, -3.48314526e+01, -1.70712201e+02,\n",
       "        4.25252636e+01,  1.64594216e+02, -2.08832464e+01,  2.38765466e+01,\n",
       "        9.96267877e+00,  5.07555627e+01, -5.60744108e+00, -1.30589562e+01,\n",
       "       -1.58465213e+01,  3.11305921e+01, -1.85525671e+01, -1.74227930e+01,\n",
       "       -4.37107975e+00, -3.43399371e+01,  1.08594779e+02, -1.75946646e+01,\n",
       "        2.24965935e+02,  5.04335404e+01,  2.38146924e+01,  6.90893180e+01,\n",
       "       -1.02033202e+01,  5.19673353e+01, -3.10446343e+00,  1.29622666e+02,\n",
       "        1.12396333e+02,  2.91450564e-01, -3.35152346e+01,  4.90174144e+00,\n",
       "        1.04232056e+01, -1.18447419e+02,  2.22124443e+01, -9.95673097e+01,\n",
       "       -1.18359544e+02,  8.64943455e+01,  8.40800175e+01,  6.35467817e+01,\n",
       "        1.33361442e+01, -1.12922141e+02, -8.26858320e+01, -1.32233648e+02,\n",
       "       -8.92106241e+01, -1.52133218e+01, -4.73131949e+00,  4.94477718e+01,\n",
       "        1.14977079e+02, -5.64519465e+01, -1.25952199e+00,  6.49653070e+01,\n",
       "       -7.49422701e+01,  6.38898594e+01, -9.93561034e+01, -3.97333887e+01,\n",
       "        6.60428071e+01,  6.67409639e+01,  3.06373930e+01,  2.68658902e+01,\n",
       "        3.90411130e+01,  5.49546290e+01,  1.01090585e+02,  4.94875711e+00,\n",
       "        3.10406209e+01, -7.22098627e+01, -1.32063973e+02,  2.95124045e+01,\n",
       "        1.66645155e+01,  1.00503859e+02,  2.98397771e+01, -1.08120785e+01,\n",
       "        2.27617045e+01, -9.00516833e+01,  9.47559952e+01, -9.59704458e+01,\n",
       "       -5.60153019e+01,  1.67173319e+02, -9.46075359e+00,  1.21466981e+01,\n",
       "        8.88950218e+01, -2.59696818e+01,  6.71615491e+01,  1.37861643e+00,\n",
       "        3.55067627e+00,  3.79449704e+01,  7.33510019e+00,  4.80428606e+01,\n",
       "       -8.36355133e+01,  2.71716532e+00,  3.86890619e+01,  9.21604399e+01,\n",
       "       -5.23281665e+01, -1.42417713e+02, -4.81080214e+01,  1.27259328e+02,\n",
       "       -1.02391616e+02,  4.57122892e+01, -1.28002900e+02, -6.81885879e+01,\n",
       "        7.34961982e+01, -3.81315582e+01, -1.44183064e+01, -1.14008661e+02,\n",
       "        5.11441118e+01,  5.61446953e+01, -2.07228465e+01,  1.54245494e+02,\n",
       "       -2.42769497e+01,  4.62369905e+01, -1.88879774e+01,  8.17714720e+01,\n",
       "        4.01116056e+01,  9.05671030e+01, -4.50043864e+01, -2.15776366e+01,\n",
       "        2.53339052e+01,  4.90325778e+00, -2.52562179e+01, -3.07523799e+00,\n",
       "       -5.93925432e+01,  1.64360782e+02, -4.59655455e+01, -1.26647993e+00,\n",
       "        5.19777676e+01, -9.67261947e+01,  1.25250698e+01,  3.08813519e+01,\n",
       "       -1.57809071e+01, -7.45510242e+01, -6.46752005e+00, -1.24471956e+02,\n",
       "        2.15598894e+01,  2.26790641e+00, -6.47679849e+01, -5.97085813e+01,\n",
       "       -5.21473072e+01, -8.55037059e+01, -1.45637328e+02, -7.43568866e+00,\n",
       "        7.98949662e+01,  4.69135284e+00, -9.46090986e+01, -7.62348020e+01,\n",
       "       -6.61544817e+01,  2.39227546e+01,  3.04543178e+01,  1.71139133e+02,\n",
       "       -4.77300266e+01, -2.74210466e+01,  6.89376749e+01, -1.15138203e+01,\n",
       "       -7.88402724e+01,  1.97819803e+01,  3.09193245e+01, -6.84220952e+01,\n",
       "       -1.27100972e+01, -1.84126588e+01,  1.30389685e+02, -2.09951353e+00,\n",
       "       -1.61327276e+01,  8.51839353e+01,  1.52008418e+01,  1.50176843e+02,\n",
       "       -4.11667399e+01,  6.90517829e+01, -4.68633727e+01,  3.16523446e+01,\n",
       "       -5.39236102e+01, -6.16304503e+01,  9.81315237e-01,  8.22245104e+00,\n",
       "       -1.01312492e+01,  1.85838620e+01,  3.11578551e+00,  2.35558843e+02,\n",
       "        4.76889675e+01, -6.18780796e+01, -1.06613016e+01, -5.19813765e+01,\n",
       "       -9.59802908e+01, -1.09389645e+01, -2.96331289e+01,  1.48773241e+02,\n",
       "       -1.52107355e+01,  3.30725112e+01, -1.06079466e+01,  1.46656518e+02,\n",
       "        6.76671874e+01, -2.55145530e+01, -8.84678112e+01, -7.34137641e+01,\n",
       "        3.10562319e+01, -6.55084418e+01,  1.10254975e+02,  8.86572041e+01,\n",
       "       -7.46781921e+01,  8.56609819e+01, -7.24520394e+01,  2.70294808e+01,\n",
       "       -4.71230025e+01, -1.19664389e+02,  5.89226782e+01,  2.47038233e+01,\n",
       "        3.59161887e+00, -1.09274465e+02,  9.05471432e+01, -1.06070433e+02,\n",
       "        1.51039385e+01, -1.09697142e+02, -1.31848539e+01,  3.99019476e+01,\n",
       "       -2.56908831e+01,  5.59086009e+01,  7.28510943e+01, -5.67744296e+01,\n",
       "       -4.25121049e+01,  3.51111841e+00,  2.02822951e+01, -3.43056593e+01,\n",
       "       -9.18696477e+01,  1.47923778e+02, -6.99533803e+01, -1.49328818e+01,\n",
       "       -2.11230569e+00,  8.37119374e+00,  8.87905974e+01, -3.64020723e+01,\n",
       "        3.83055238e+01,  1.28708345e+02,  2.59949037e+01, -2.76552439e+01,\n",
       "       -5.30927491e+01,  4.72952876e+01, -6.92045732e+01,  9.34781311e+01,\n",
       "       -1.33058074e+02, -1.29204253e+02, -1.87875932e+01, -8.19570295e+01,\n",
       "       -6.07429567e+00, -1.62255972e+02,  3.02555918e+01, -1.50715456e+02,\n",
       "       -5.46032107e+01, -9.49487092e+00, -1.79969075e+02,  1.49179533e+00,\n",
       "        5.54281168e+01, -9.44815544e+01, -1.45464083e+01, -5.18290918e+01,\n",
       "       -8.02578535e+01,  3.04103217e+01, -9.53086012e+01, -4.61187106e+01,\n",
       "       -8.79017931e-01, -4.78998746e+01,  1.05874545e+02, -2.02458143e+02,\n",
       "        1.38331441e+02,  9.10476884e+01, -1.48787290e+02, -4.60719085e+01,\n",
       "        1.46635438e+02, -5.77364240e+01, -8.93532919e+01, -9.67683947e+00,\n",
       "        4.40701422e+01, -3.06876964e+01, -5.31955729e+01, -1.36770728e+02,\n",
       "       -1.82539944e+01,  4.92937039e+01,  2.19969419e+01, -5.96521759e+01,\n",
       "        3.41989910e+00, -1.64633578e+00,  2.18990581e+01,  2.82026370e+01,\n",
       "        3.35710582e+01,  8.56749956e+01, -8.94139762e+01,  5.81555461e+01,\n",
       "        8.02469270e+00, -1.99103256e+01,  1.16206534e+01,  3.20203380e+01,\n",
       "       -3.29611607e+01,  7.45789206e+01,  1.35631405e+02,  1.01185258e+00,\n",
       "        4.22340885e+01,  2.93844078e+01, -9.46641220e+01, -4.81005016e+01,\n",
       "       -6.64202248e+01, -7.48016672e+01, -7.25444843e+01, -7.78952838e+01,\n",
       "       -1.00579953e+01, -4.66181935e+01, -2.50289212e+01,  1.62412448e+02,\n",
       "       -6.03065127e+01,  2.52622375e+01,  8.37468309e+01, -9.46209645e+00,\n",
       "       -7.59880644e+01,  3.11583977e+01,  6.26885188e+01, -9.19741845e+01,\n",
       "        1.16772901e+02, -2.17181459e+01,  5.19012655e+01, -2.89479561e-01,\n",
       "       -1.01908861e+01, -3.11287998e+01,  8.53441572e+01,  1.51526835e+01,\n",
       "       -4.17447657e+01, -6.60387641e+01,  5.36521161e+01,  1.65536639e+01,\n",
       "        2.89261674e+01, -9.41914565e+01,  6.92166583e+01,  5.10065643e+01,\n",
       "        5.19655858e+01,  1.00645344e+02,  5.24887495e+01,  2.44530120e+01,\n",
       "        1.03206530e+01, -3.19592955e+01,  8.80114609e+01,  5.93103289e+01,\n",
       "        7.26459903e+00,  4.23403771e+00,  1.98513423e+01, -6.28085699e+01,\n",
       "        6.09684836e+01,  3.82671641e+01, -1.42487832e+02, -6.45527346e+01,\n",
       "       -2.13839212e+01, -3.12294235e+01, -5.14169262e+01,  1.44250560e+02,\n",
       "        6.81517070e+01, -4.46805063e+01,  9.36933083e+00,  1.09319703e+02,\n",
       "        1.32503347e+01, -1.08050066e+02,  1.89311605e+02,  4.95928648e+01,\n",
       "        3.86603539e+01,  5.64187827e+01, -5.36445234e+01,  4.57283071e+01,\n",
       "       -1.90558506e+00, -2.98944890e+01, -2.32443658e+01,  1.93562690e+01,\n",
       "       -1.89010420e+00, -1.45575700e+01, -1.24656884e+02,  9.75036824e+01,\n",
       "       -1.42265426e+02,  6.36659825e+00, -5.80374784e+01, -8.96177385e+01,\n",
       "       -5.77831305e+01,  9.42810853e+01,  2.08373502e+01, -2.56377627e+01,\n",
       "       -3.85604384e+01,  2.85565962e+01,  7.89164969e+01,  1.06836454e+01,\n",
       "        1.16193486e+02, -9.32640955e+01,  4.68460660e+01,  1.16710680e+02,\n",
       "       -6.43176328e+01, -2.77313621e+01,  1.59776138e+02,  4.24726861e+01,\n",
       "       -1.79808875e+01, -6.98297912e+00, -3.83621511e+00, -1.15065388e+01,\n",
       "        5.21134050e+01,  1.68198920e+01,  1.20947528e+02,  2.46364258e+01,\n",
       "        1.91880379e+01,  7.67355771e+01, -1.27533424e+01,  4.82361107e+01,\n",
       "       -6.45190794e+01, -2.57921622e+00, -1.24541496e+02, -4.16097135e+01,\n",
       "        3.49151755e+01, -1.74339971e-01, -1.75592201e+00,  1.26778526e+02,\n",
       "        4.60582048e+01,  1.00170195e+02,  4.45120761e+01,  3.88634963e+01,\n",
       "        1.01455510e+02,  1.08287387e+02,  1.83466888e+01, -6.60942858e+01,\n",
       "        5.14307657e+00,  5.08382810e+01, -1.13016206e+01, -4.86351132e+00,\n",
       "       -8.60848974e+01, -1.21941161e+02,  3.10586512e+01, -7.48736739e+01,\n",
       "       -7.98445883e+01, -8.98480954e+00,  7.92346486e-01, -9.92146330e+01,\n",
       "       -1.99381823e+00,  5.22214381e+01, -1.58965128e+01,  1.09824405e+02,\n",
       "       -3.04656326e+01, -6.15957552e+00, -4.81023647e+01, -2.63915134e+01,\n",
       "        1.00390224e+01, -4.65280719e+01,  1.11066410e+02, -4.86627110e+01,\n",
       "       -6.09544619e+00, -9.07414417e+01,  3.16261973e+01, -1.20517325e+02,\n",
       "        1.23388927e+02,  4.38953689e+01,  5.30835708e+01,  3.00307734e+01,\n",
       "       -2.34434219e+01,  5.39459243e+01, -1.51827845e+01, -4.50788066e+01,\n",
       "       -2.05699616e+01, -1.13194749e+01,  6.72167559e+01,  2.23343904e+01,\n",
       "       -9.54257948e+01,  5.52089945e+01,  5.33492586e+01, -1.78667493e+01,\n",
       "        4.63687962e+01, -1.20679967e+02, -1.15409738e+01, -1.85765180e+01,\n",
       "       -4.93729582e+00, -1.60950028e+01,  9.73834819e-01, -8.22038871e+01,\n",
       "        8.60397410e+01,  2.19957097e+01, -3.68615029e-01, -1.09496363e+02,\n",
       "        5.32022338e+01,  1.07688416e+02, -2.29442553e+01, -2.79150810e+01,\n",
       "        7.37060136e+01, -7.28187391e+01, -2.31041781e+01,  3.00003431e+01,\n",
       "        6.42511052e+01,  2.28862276e+01, -9.13278224e+00, -2.19263883e+01,\n",
       "        3.95920177e+01, -4.46543962e+01,  3.45729642e+01,  6.48963461e+01,\n",
       "        1.25083158e+02, -9.64600204e+01, -1.32171771e+02, -1.22090841e+01,\n",
       "        3.14745264e+01,  1.81841868e+01,  2.24026263e+01,  1.35879527e+02,\n",
       "       -8.79571737e+01,  1.27839389e+02,  1.47414042e+02, -2.08605511e+02,\n",
       "       -9.37356706e+01,  5.72756347e+01, -4.70515357e+00,  8.65455036e+01,\n",
       "       -1.93717152e+01, -1.26706415e+01,  5.93204387e+01,  7.31905313e+01,\n",
       "        6.78632424e+01, -4.01728388e+00,  7.90084705e+01, -1.00299355e+02,\n",
       "       -4.03583522e+01, -2.08067995e+01,  4.59925583e+01, -2.30237597e+01,\n",
       "        1.56669177e+00,  1.72125209e+01,  5.27976254e+01, -1.75017788e+01,\n",
       "        1.51326815e+02,  4.57652306e+01, -1.50088532e+02, -6.82506239e+01,\n",
       "       -2.53387613e+01,  4.84440840e+01, -1.27690543e+02,  1.00778575e+02,\n",
       "        1.26184918e+01, -9.13320034e+01, -3.26909355e+00, -3.48952369e+01,\n",
       "        2.04809164e+01, -5.03806330e+01, -4.75724643e+01, -7.22886304e+01,\n",
       "        1.11293137e+02,  1.87375549e+02,  1.09941983e+00,  7.09991938e+01,\n",
       "        2.97996123e+01, -4.18033778e+01,  3.46738438e+01,  7.24084683e+01,\n",
       "        1.40105009e+02, -1.52566164e+02, -1.00710572e+01, -1.54658316e+01,\n",
       "       -1.30355405e+01, -1.21342404e+02,  3.06901961e+01,  9.01651567e+01,\n",
       "       -9.28107360e+00, -7.12314622e+01, -7.79194579e+01,  1.02811730e+02,\n",
       "       -5.80108767e+00,  2.73932523e+01,  2.51261823e+01,  1.28089535e+02,\n",
       "        7.97084049e+00,  5.28024554e+01, -5.07614486e+01, -1.40907074e+01,\n",
       "       -9.18733280e+01,  6.68704210e+01, -7.13625649e+01, -4.71300744e+01,\n",
       "       -6.19662400e+01, -1.00903729e+02, -1.27425070e+01,  4.18473847e+01,\n",
       "        6.73251262e+01,  2.42985915e+01, -4.92417142e+01,  6.02731801e+01,\n",
       "       -3.51733058e+01,  5.10215941e+01,  1.30172203e+02, -3.30791422e+01,\n",
       "        4.20860725e+00, -1.02991028e+02, -8.04948002e+01, -6.73394690e+01])"
      ]
     },
     "execution_count": 6,
     "metadata": {},
     "output_type": "execute_result"
    }
   ],
   "source": [
    "y"
   ]
  },
  {
   "cell_type": "code",
   "execution_count": 7,
   "metadata": {
    "colab": {
     "base_uri": "https://localhost:8080/"
    },
    "executionInfo": {
     "elapsed": 29,
     "status": "ok",
     "timestamp": 1693385887237,
     "user": {
      "displayName": "Vipil Khapre",
      "userId": "11657927420291305997"
     },
     "user_tz": -330
    },
    "id": "nnB9u96lqIq0",
    "outputId": "2011ff75-1399-449e-99f6-ea21554a1b48"
   },
   "outputs": [
    {
     "data": {
      "text/plain": [
       "0      2.720757\n",
       "1      0.237153\n",
       "2     -0.663509\n",
       "3      0.028846\n",
       "4      0.569587\n",
       "         ...   \n",
       "995   -0.245038\n",
       "996   -0.980799\n",
       "997   -2.212826\n",
       "998   -1.556994\n",
       "999   -0.940578\n",
       "Name: 0, Length: 1000, dtype: float64"
      ]
     },
     "execution_count": 7,
     "metadata": {},
     "output_type": "execute_result"
    }
   ],
   "source": [
    "pd.DataFrame(X)[0]"
   ]
  },
  {
   "cell_type": "code",
   "execution_count": 8,
   "metadata": {
    "colab": {
     "base_uri": "https://localhost:8080/",
     "height": 467
    },
    "executionInfo": {
     "elapsed": 2630,
     "status": "ok",
     "timestamp": 1693385897244,
     "user": {
      "displayName": "Vipil Khapre",
      "userId": "11657927420291305997"
     },
     "user_tz": -330
    },
    "id": "Pe--0H0fqIq1",
    "outputId": "403a2820-92a9-4724-e1a1-645a81f85337"
   },
   "outputs": [
    {
     "data": {
      "text/plain": [
       "<AxesSubplot:xlabel='0', ylabel='1'>"
      ]
     },
     "execution_count": 8,
     "metadata": {},
     "output_type": "execute_result"
    },
    {
     "data": {
      "image/png": "[encoded data removed]",
      "text/plain": [
       "<Figure size 640x480 with 1 Axes>"
      ]
     },
     "metadata": {},
     "output_type": "display_data"
    }
   ],
   "source": [
    "sns.scatterplot(x=pd.DataFrame(X)[0],y=pd.DataFrame(X)[1],hue=y)"
   ]
  },
  {
   "cell_type": "code",
   "execution_count": 9,
   "metadata": {
    "executionInfo": {
     "elapsed": 478,
     "status": "ok",
     "timestamp": 1693385904728,
     "user": {
      "displayName": "Vipil Khapre",
      "userId": "11657927420291305997"
     },
     "user_tz": -330
    },
    "id": "jo_bwQ5_qIq1"
   },
   "outputs": [],
   "source": [
    "from sklearn.model_selection import train_test_split\n",
    "X_train,X_test,y_train,y_test=train_test_split(X,y,test_size=0.25,random_state=10)"
   ]
  },
  {
   "cell_type": "code",
   "execution_count": 10,
   "metadata": {
    "executionInfo": {
     "elapsed": 10,
     "status": "ok",
     "timestamp": 1693385904728,
     "user": {
      "displayName": "Vipil Khapre",
      "userId": "11657927420291305997"
     },
     "user_tz": -330
    },
    "id": "nITYOV9oqIq2"
   },
   "outputs": [],
   "source": [
    "from sklearn.svm import SVR"
   ]
  },
  {
   "cell_type": "code",
   "execution_count": 11,
   "metadata": {
    "executionInfo": {
     "elapsed": 659,
     "status": "ok",
     "timestamp": 1693386091301,
     "user": {
      "displayName": "Vipil Khapre",
      "userId": "11657927420291305997"
     },
     "user_tz": -330
    },
    "id": "1NzHguuFqIq3"
   },
   "outputs": [],
   "source": [
    "svr=SVR(kernel='linear')"
   ]
  },
  {
   "cell_type": "code",
   "execution_count": 12,
   "metadata": {
    "colab": {
     "base_uri": "https://localhost:8080/",
     "height": 75
    },
    "executionInfo": {
     "elapsed": 22,
     "status": "ok",
     "timestamp": 1693386091770,
     "user": {
      "displayName": "Vipil Khapre",
      "userId": "11657927420291305997"
     },
     "user_tz": -330
    },
    "id": "q4yViOLNqIq4",
    "outputId": "d6288821-ce6a-4fb8-b57b-283ac61493eb"
   },
   "outputs": [
    {
     "data": {
      "text/plain": [
       "SVR(kernel='linear')"
      ]
     },
     "execution_count": 12,
     "metadata": {},
     "output_type": "execute_result"
    }
   ],
   "source": [
    "svr.fit(X_train,y_train)"
   ]
  },
  {
   "cell_type": "code",
   "execution_count": 13,
   "metadata": {
    "colab": {
     "base_uri": "https://localhost:8080/"
    },
    "executionInfo": {
     "elapsed": 12,
     "status": "ok",
     "timestamp": 1693386093295,
     "user": {
      "displayName": "Vipil Khapre",
      "userId": "11657927420291305997"
     },
     "user_tz": -330
    },
    "id": "UehOgHVBqIq5",
    "outputId": "04d728c6-0dcb-4073-ee7f-212680271af2"
   },
   "outputs": [
    {
     "data": {
      "text/plain": [
       "array([[54.47142995, 45.8068111 ]])"
      ]
     },
     "execution_count": 13,
     "metadata": {},
     "output_type": "execute_result"
    }
   ],
   "source": [
    "svr.coef_"
   ]
  },
  {
   "cell_type": "code",
   "execution_count": 14,
   "metadata": {
    "executionInfo": {
     "elapsed": 8,
     "status": "ok",
     "timestamp": 1693386094905,
     "user": {
      "displayName": "Vipil Khapre",
      "userId": "11657927420291305997"
     },
     "user_tz": -330
    },
    "id": "_UnW7YELqIq5"
   },
   "outputs": [],
   "source": [
    "## Prediction\n",
    "y_pred=svr.predict(X_test)"
   ]
  },
  {
   "cell_type": "code",
   "execution_count": 15,
   "metadata": {
    "colab": {
     "base_uri": "https://localhost:8080/"
    },
    "executionInfo": {
     "elapsed": 14,
     "status": "ok",
     "timestamp": 1693386097949,
     "user": {
      "displayName": "Vipil Khapre",
      "userId": "11657927420291305997"
     },
     "user_tz": -330
    },
    "id": "CW0r-IbsqIq5",
    "outputId": "96c32424-c5bf-414a-a365-36f0210f2ed7"
   },
   "outputs": [
    {
     "data": {
      "text/plain": [
       "array([  -7.48315691,   31.13136978,  -16.67947321,   37.00554033,\n",
       "        -64.29512089,   69.76423056,  -52.81711616,   23.1676352 ,\n",
       "         -9.20260656,  -61.75668444, -153.53951929, -174.1662363 ,\n",
       "         67.5481374 ,    8.60953777,  105.66525337,   39.73029552,\n",
       "         50.36983897,  -13.55503974,   41.45985834, -156.60687958,\n",
       "        -69.30496971,  -44.46514096,   15.89272596,   30.01181265,\n",
       "       -114.72802725,    7.70377492,   -2.51896994,   55.89901375,\n",
       "        -54.59295311,  122.42359523,  -42.56988185,  145.43969596,\n",
       "         53.15525581,  106.41349099,  -32.46416757,  156.33929954,\n",
       "        -39.43391871,  -47.29239043,   -2.8673656 ,  -21.42528364,\n",
       "        -44.37117904,   20.01178775,   52.23773052,  -51.76854943,\n",
       "         -0.84527056,  -24.86908861,    7.3548945 ,  -81.62819938,\n",
       "         -2.75500684,  185.02105806, -189.47231613,   55.27295587,\n",
       "        -61.11695636,   -1.9285462 ,  -63.870008  ,   -2.63479849,\n",
       "         28.10303401,   52.5830957 ,   66.93825855,  -31.27423743,\n",
       "         42.35637887,   52.66301085,   65.66685732,  -15.32206302,\n",
       "          5.54003043,  149.37412529,   47.88727672,  -96.44490947,\n",
       "         -6.25188072,   94.58163944,  -57.9273571 ,  -34.99626644,\n",
       "       -124.9060041 ,  -99.41409702,  -16.44271747,   65.49239663,\n",
       "        -24.98829225,  -14.96053984,   14.05254005,   32.03218021,\n",
       "        142.2545838 ,  -41.2175198 ,  -14.95084774,   17.71387829,\n",
       "         94.64342039,  -53.55348827,  -39.04701144,   22.28288917,\n",
       "          5.65008675,   24.53453596,   88.47735283,  -16.37126445,\n",
       "         34.95829244,  -13.65767598, -109.25523551, -137.7654155 ,\n",
       "         63.48185823,   46.95368832,  126.12696687,   18.73052492,\n",
       "        -45.71069787,   12.18164665,   24.90764603,   -8.60281474,\n",
       "         67.85787938,  -70.66949408,  -76.58745693,   63.88032981,\n",
       "         -8.13729716,   22.95403242,  -84.01793588,   -2.60482798,\n",
       "        -19.68288478,   33.04638727,   -1.65946143,  -59.07389538,\n",
       "        -22.60988852,  -57.14934666,   43.79979843,   26.47222921,\n",
       "        -16.93153733,   10.38503853,    8.17748305,   11.29757896,\n",
       "       -121.11414207,  -36.01777688,   70.29958076,  -37.08817081,\n",
       "        140.57649331,   29.03194643,   56.59577061,  -89.86464737,\n",
       "         88.26106959,   -7.53434126,   42.84367082,   43.74494021,\n",
       "        101.3710241 ,  -93.4322292 ,   20.70144881,   50.75705375,\n",
       "         32.3033375 ,  -48.74442769,   56.12803956,  144.13034555,\n",
       "        -73.11658565,  -64.1993862 ,  -74.86460996,   40.96612601,\n",
       "         17.88972728,   75.83150362,   22.46171223,   56.8607627 ,\n",
       "         33.60012438,  -29.4187504 ,  -72.10902908,  -46.47392516,\n",
       "        -52.35178626,   70.96908982,  127.67331886,  147.82084692,\n",
       "         69.11114256,  110.18730277,   11.61087339,  -57.54017292,\n",
       "        -90.9104126 ,  117.47923012,   44.23416074,   24.55496673,\n",
       "        -47.45694385,   49.81919679,  -52.8153513 ,  -37.34512856,\n",
       "        109.81413598,  -31.53861883,   -4.54453578, -118.01635777,\n",
       "         13.27322325, -105.10028576,   90.31950457,  -28.7099722 ,\n",
       "         84.45120729,  112.10355631,   -6.25863646,  -84.76051984,\n",
       "        -20.35437152,   -5.33263741, -155.74265063, -129.39781842,\n",
       "         44.62951507,    2.37141502,  139.27967818,  102.78720746,\n",
       "         34.20750564,  -17.03799429,    4.10088813,  -19.5579299 ,\n",
       "        -16.53989666,   93.0083541 ,   18.65780075,   49.83990279,\n",
       "        -17.85003773,  -85.32979128,   16.92220446,  -42.38200144,\n",
       "         -9.59292109,   38.95818229,   -8.55997226,  -55.14017741,\n",
       "         34.56984936,  -79.04362568,  -46.33468969,  -45.03029324,\n",
       "        126.5823852 ,  -99.48492714,  -65.29067708,   81.43393204,\n",
       "          8.07609302,  -13.54335114,  -11.18329814,  -62.58083717,\n",
       "        144.70430714,   -3.54442694,   15.22224197,   20.73193063,\n",
       "       -102.99622687,   -5.02878357,  -91.66479016,   63.96819947,\n",
       "        -11.16904701,   42.43154173,   39.77614096, -122.68835319,\n",
       "        -45.61845495,   72.96205298,  -71.65266961,  -50.11915108,\n",
       "          7.14387057,   -5.04974537,   29.47678918,   -6.8853623 ,\n",
       "         48.29480453, -114.33722662, -126.46790879,   78.73584478,\n",
       "         98.68016281,  -66.3636756 ,   31.36440287,  -23.28080801,\n",
       "         36.45013213,   15.19420661])"
      ]
     },
     "execution_count": 15,
     "metadata": {},
     "output_type": "execute_result"
    }
   ],
   "source": [
    "y_pred"
   ]
  },
  {
   "cell_type": "code",
   "execution_count": 16,
   "metadata": {
    "executionInfo": {
     "elapsed": 3,
     "status": "ok",
     "timestamp": 1693386099834,
     "user": {
      "displayName": "Vipil Khapre",
      "userId": "11657927420291305997"
     },
     "user_tz": -330
    },
    "id": "_V8L5uhcqIq6"
   },
   "outputs": [],
   "source": [
    "from sklearn.metrics import r2_score"
   ]
  },
  {
   "cell_type": "code",
   "execution_count": 17,
   "metadata": {
    "colab": {
     "base_uri": "https://localhost:8080/"
    },
    "executionInfo": {
     "elapsed": 8,
     "status": "ok",
     "timestamp": 1693386103140,
     "user": {
      "displayName": "Vipil Khapre",
      "userId": "11657927420291305997"
     },
     "user_tz": -330
    },
    "id": "j7244_g_qIq6",
    "outputId": "8129b74e-bc9b-4d09-8567-1239830639d4"
   },
   "outputs": [
    {
     "name": "stdout",
     "output_type": "stream",
     "text": [
      "0.9979237917933305\n"
     ]
    }
   ],
   "source": [
    "print(r2_score(y_test,y_pred))"
   ]
  },
  {
   "cell_type": "markdown",
   "metadata": {
    "id": "PrpM_v3SqIq6"
   },
   "source": [
    "## Hyperparametere Tuning With SVR"
   ]
  },
  {
   "cell_type": "code",
   "execution_count": 18,
   "metadata": {
    "executionInfo": {
     "elapsed": 4,
     "status": "ok",
     "timestamp": 1693386108780,
     "user": {
      "displayName": "Vipil Khapre",
      "userId": "11657927420291305997"
     },
     "user_tz": -330
    },
    "id": "x_e1cKqFqIq7"
   },
   "outputs": [],
   "source": [
    "from sklearn.model_selection import GridSearchCV\n",
    "\n",
    "# defining parameter range\n",
    "param_grid = {'C': [0.1, 1, 10, 100, 1000],\n",
    "              'gamma': [1, 0.1, 0.01, 0.001, 0.0001],\n",
    "              'kernel':['linear'],\n",
    "              'epsilon':[0.1,0.2,0.3]\n",
    "              }"
   ]
  },
  {
   "cell_type": "code",
   "execution_count": 19,
   "metadata": {
    "executionInfo": {
     "elapsed": 5,
     "status": "ok",
     "timestamp": 1693386111007,
     "user": {
      "displayName": "Vipil Khapre",
      "userId": "11657927420291305997"
     },
     "user_tz": -330
    },
    "id": "2Odkk2VvqIq7"
   },
   "outputs": [],
   "source": [
    "grid=GridSearchCV(SVR(),param_grid=param_grid, scoring='neg_mean_squared_error',refit=True,cv=5,verbose=3)"
   ]
  },
  {
   "cell_type": "code",
   "execution_count": null,
   "metadata": {
    "colab": {
     "base_uri": "https://localhost:8080/",
     "height": 1000
    },
    "executionInfo": {
     "elapsed": 75617,
     "status": "ok",
     "timestamp": 1693386190350,
     "user": {
      "displayName": "Vipil Khapre",
      "userId": "11657927420291305997"
     },
     "user_tz": -330
    },
    "id": "CxYbcyZXqIq8",
    "outputId": "712e2c68-8953-41a0-c8f1-203a2cc64336"
   },
   "outputs": [
    {
     "name": "stdout",
     "output_type": "stream",
     "text": [
      "Fitting 5 folds for each of 75 candidates, totalling 375 fits\n",
      "[CV 1/5] END C=0.1, epsilon=0.1, gamma=1, kernel=linear;, score=-514.349 total time=   0.0s\n",
      "[CV 2/5] END C=0.1, epsilon=0.1, gamma=1, kernel=linear;, score=-650.152 total time=   0.0s\n",
      "[CV 3/5] END C=0.1, epsilon=0.1, gamma=1, kernel=linear;, score=-527.056 total time=   0.0s\n",
      "[CV 4/5] END C=0.1, epsilon=0.1, gamma=1, kernel=linear;, score=-776.655 total time=   0.0s\n",
      "[CV 5/5] END C=0.1, epsilon=0.1, gamma=1, kernel=linear;, score=-704.155 total time=   0.0s\n",
      "[CV 1/5] END C=0.1, epsilon=0.1, gamma=0.1, kernel=linear;, score=-514.349 total time=   0.0s\n",
      "[CV 2/5] END C=0.1, epsilon=0.1, gamma=0.1, kernel=linear;, score=-650.152 total time=   0.0s\n",
      "[CV 3/5] END C=0.1, epsilon=0.1, gamma=0.1, kernel=linear;, score=-527.056 total time=   0.0s\n",
      "[CV 4/5] END C=0.1, epsilon=0.1, gamma=0.1, kernel=linear;, score=-776.655 total time=   0.0s\n",
      "[CV 5/5] END C=0.1, epsilon=0.1, gamma=0.1, kernel=linear;, score=-704.155 total time=   0.0s\n",
      "[CV 1/5] END C=0.1, epsilon=0.1, gamma=0.01, kernel=linear;, score=-514.349 total time=   0.0s\n",
      "[CV 2/5] END C=0.1, epsilon=0.1, gamma=0.01, kernel=linear;, score=-650.152 total time=   0.0s\n",
      "[CV 3/5] END C=0.1, epsilon=0.1, gamma=0.01, kernel=linear;, score=-527.056 total time=   0.0s\n",
      "[CV 4/5] END C=0.1, epsilon=0.1, gamma=0.01, kernel=linear;, score=-776.655 total time=   0.0s\n",
      "[CV 5/5] END C=0.1, epsilon=0.1, gamma=0.01, kernel=linear;, score=-704.155 total time=   0.0s\n",
      "[CV 1/5] END C=0.1, epsilon=0.1, gamma=0.001, kernel=linear;, score=-514.349 total time=   0.0s\n",
      "[CV 2/5] END C=0.1, epsilon=0.1, gamma=0.001, kernel=linear;, score=-650.152 total time=   0.0s\n",
      "[CV 3/5] END C=0.1, epsilon=0.1, gamma=0.001, kernel=linear;, score=-527.056 total time=   0.0s\n",
      "[CV 4/5] END C=0.1, epsilon=0.1, gamma=0.001, kernel=linear;, score=-776.655 total time=   0.0s\n",
      "[CV 5/5] END C=0.1, epsilon=0.1, gamma=0.001, kernel=linear;, score=-704.155 total time=   0.0s\n",
      "[CV 1/5] END C=0.1, epsilon=0.1, gamma=0.0001, kernel=linear;, score=-514.349 total time=   0.0s\n",
      "[CV 2/5] END C=0.1, epsilon=0.1, gamma=0.0001, kernel=linear;, score=-650.152 total time=   0.0s\n",
      "[CV 3/5] END C=0.1, epsilon=0.1, gamma=0.0001, kernel=linear;, score=-527.056 total time=   0.0s\n",
      "[CV 4/5] END C=0.1, epsilon=0.1, gamma=0.0001, kernel=linear;, score=-776.655 total time=   0.0s\n",
      "[CV 5/5] END C=0.1, epsilon=0.1, gamma=0.0001, kernel=linear;, score=-704.155 total time=   0.0s\n",
      "[CV 1/5] END C=0.1, epsilon=0.2, gamma=1, kernel=linear;, score=-514.387 total time=   0.0s\n",
      "[CV 2/5] END C=0.1, epsilon=0.2, gamma=1, kernel=linear;, score=-651.314 total time=   0.0s\n",
      "[CV 3/5] END C=0.1, epsilon=0.2, gamma=1, kernel=linear;, score=-526.125 total time=   0.0s\n",
      "[CV 4/5] END C=0.1, epsilon=0.2, gamma=1, kernel=linear;, score=-776.757 total time=   0.0s\n",
      "[CV 5/5] END C=0.1, epsilon=0.2, gamma=1, kernel=linear;, score=-704.987 total time=   0.0s\n",
      "[CV 1/5] END C=0.1, epsilon=0.2, gamma=0.1, kernel=linear;, score=-514.387 total time=   0.0s\n",
      "[CV 2/5] END C=0.1, epsilon=0.2, gamma=0.1, kernel=linear;, score=-651.314 total time=   0.0s\n",
      "[CV 3/5] END C=0.1, epsilon=0.2, gamma=0.1, kernel=linear;, score=-526.125 total time=   0.0s\n",
      "[CV 4/5] END C=0.1, epsilon=0.2, gamma=0.1, kernel=linear;, score=-776.757 total time=   0.0s\n",
      "[CV 5/5] END C=0.1, epsilon=0.2, gamma=0.1, kernel=linear;, score=-704.987 total time=   0.0s\n",
      "[CV 1/5] END C=0.1, epsilon=0.2, gamma=0.01, kernel=linear;, score=-514.387 total time=   0.0s\n",
      "[CV 2/5] END C=0.1, epsilon=0.2, gamma=0.01, kernel=linear;, score=-651.314 total time=   0.0s\n",
      "[CV 3/5] END C=0.1, epsilon=0.2, gamma=0.01, kernel=linear;, score=-526.125 total time=   0.0s\n",
      "[CV 4/5] END C=0.1, epsilon=0.2, gamma=0.01, kernel=linear;, score=-776.757 total time=   0.0s\n",
      "[CV 5/5] END C=0.1, epsilon=0.2, gamma=0.01, kernel=linear;, score=-704.987 total time=   0.0s\n",
      "[CV 1/5] END C=0.1, epsilon=0.2, gamma=0.001, kernel=linear;, score=-514.387 total time=   0.0s\n",
      "[CV 2/5] END C=0.1, epsilon=0.2, gamma=0.001, kernel=linear;, score=-651.314 total time=   0.0s\n",
      "[CV 3/5] END C=0.1, epsilon=0.2, gamma=0.001, kernel=linear;, score=-526.125 total time=   0.0s\n",
      "[CV 4/5] END C=0.1, epsilon=0.2, gamma=0.001, kernel=linear;, score=-776.757 total time=   0.0s\n",
      "[CV 5/5] END C=0.1, epsilon=0.2, gamma=0.001, kernel=linear;, score=-704.987 total time=   0.0s\n",
      "[CV 1/5] END C=0.1, epsilon=0.2, gamma=0.0001, kernel=linear;, score=-514.387 total time=   0.0s\n",
      "[CV 2/5] END C=0.1, epsilon=0.2, gamma=0.0001, kernel=linear;, score=-651.314 total time=   0.0s\n",
      "[CV 3/5] END C=0.1, epsilon=0.2, gamma=0.0001, kernel=linear;, score=-526.125 total time=   0.0s\n",
      "[CV 4/5] END C=0.1, epsilon=0.2, gamma=0.0001, kernel=linear;, score=-776.757 total time=   0.0s\n",
      "[CV 5/5] END C=0.1, epsilon=0.2, gamma=0.0001, kernel=linear;, score=-704.987 total time=   0.0s\n",
      "[CV 1/5] END C=0.1, epsilon=0.3, gamma=1, kernel=linear;, score=-513.811 total time=   0.0s\n",
      "[CV 2/5] END C=0.1, epsilon=0.3, gamma=1, kernel=linear;, score=-651.312 total time=   0.0s\n",
      "[CV 3/5] END C=0.1, epsilon=0.3, gamma=1, kernel=linear;, score=-525.895 total time=   0.0s\n",
      "[CV 4/5] END C=0.1, epsilon=0.3, gamma=1, kernel=linear;, score=-776.953 total time=   0.0s\n",
      "[CV 5/5] END C=0.1, epsilon=0.3, gamma=1, kernel=linear;, score=-706.122 total time=   0.0s\n",
      "[CV 1/5] END C=0.1, epsilon=0.3, gamma=0.1, kernel=linear;, score=-513.811 total time=   0.0s\n",
      "[CV 2/5] END C=0.1, epsilon=0.3, gamma=0.1, kernel=linear;, score=-651.312 total time=   0.0s\n",
      "[CV 3/5] END C=0.1, epsilon=0.3, gamma=0.1, kernel=linear;, score=-525.895 total time=   0.0s\n",
      "[CV 4/5] END C=0.1, epsilon=0.3, gamma=0.1, kernel=linear;, score=-776.953 total time=   0.0s\n",
      "[CV 5/5] END C=0.1, epsilon=0.3, gamma=0.1, kernel=linear;, score=-706.122 total time=   0.0s\n",
      "[CV 1/5] END C=0.1, epsilon=0.3, gamma=0.01, kernel=linear;, score=-513.811 total time=   0.0s\n",
      "[CV 2/5] END C=0.1, epsilon=0.3, gamma=0.01, kernel=linear;, score=-651.312 total time=   0.0s\n",
      "[CV 3/5] END C=0.1, epsilon=0.3, gamma=0.01, kernel=linear;, score=-525.895 total time=   0.0s\n",
      "[CV 4/5] END C=0.1, epsilon=0.3, gamma=0.01, kernel=linear;, score=-776.953 total time=   0.0s\n",
      "[CV 5/5] END C=0.1, epsilon=0.3, gamma=0.01, kernel=linear;, score=-706.122 total time=   0.0s\n",
      "[CV 1/5] END C=0.1, epsilon=0.3, gamma=0.001, kernel=linear;, score=-513.811 total time=   0.0s\n",
      "[CV 2/5] END C=0.1, epsilon=0.3, gamma=0.001, kernel=linear;, score=-651.312 total time=   0.0s\n",
      "[CV 3/5] END C=0.1, epsilon=0.3, gamma=0.001, kernel=linear;, score=-525.895 total time=   0.0s\n",
      "[CV 4/5] END C=0.1, epsilon=0.3, gamma=0.001, kernel=linear;, score=-776.953 total time=   0.0s\n",
      "[CV 5/5] END C=0.1, epsilon=0.3, gamma=0.001, kernel=linear;, score=-706.122 total time=   0.0s\n",
      "[CV 1/5] END C=0.1, epsilon=0.3, gamma=0.0001, kernel=linear;, score=-513.811 total time=   0.0s\n",
      "[CV 2/5] END C=0.1, epsilon=0.3, gamma=0.0001, kernel=linear;, score=-651.312 total time=   0.0s\n",
      "[CV 3/5] END C=0.1, epsilon=0.3, gamma=0.0001, kernel=linear;, score=-525.895 total time=   0.0s\n",
      "[CV 4/5] END C=0.1, epsilon=0.3, gamma=0.0001, kernel=linear;, score=-776.953 total time=   0.0s\n",
      "[CV 5/5] END C=0.1, epsilon=0.3, gamma=0.0001, kernel=linear;, score=-706.122 total time=   0.0s\n",
      "[CV 1/5] END C=1, epsilon=0.1, gamma=1, kernel=linear;, score=-8.954 total time=   0.0s\n",
      "[CV 2/5] END C=1, epsilon=0.1, gamma=1, kernel=linear;, score=-9.614 total time=   0.0s\n",
      "[CV 3/5] END C=1, epsilon=0.1, gamma=1, kernel=linear;, score=-9.260 total time=   0.0s\n",
      "[CV 4/5] END C=1, epsilon=0.1, gamma=1, kernel=linear;, score=-8.709 total time=   0.0s\n",
      "[CV 5/5] END C=1, epsilon=0.1, gamma=1, kernel=linear;, score=-10.808 total time=   0.0s\n",
      "[CV 1/5] END C=1, epsilon=0.1, gamma=0.1, kernel=linear;, score=-8.954 total time=   0.0s\n",
      "[CV 2/5] END C=1, epsilon=0.1, gamma=0.1, kernel=linear;, score=-9.614 total time=   0.0s\n",
      "[CV 3/5] END C=1, epsilon=0.1, gamma=0.1, kernel=linear;, score=-9.260 total time=   0.0s\n",
      "[CV 4/5] END C=1, epsilon=0.1, gamma=0.1, kernel=linear;, score=-8.709 total time=   0.0s\n",
      "[CV 5/5] END C=1, epsilon=0.1, gamma=0.1, kernel=linear;, score=-10.808 total time=   0.0s\n",
      "[CV 1/5] END C=1, epsilon=0.1, gamma=0.01, kernel=linear;, score=-8.954 total time=   0.0s\n",
      "[CV 2/5] END C=1, epsilon=0.1, gamma=0.01, kernel=linear;, score=-9.614 total time=   0.0s\n",
      "[CV 3/5] END C=1, epsilon=0.1, gamma=0.01, kernel=linear;, score=-9.260 total time=   0.0s\n",
      "[CV 4/5] END C=1, epsilon=0.1, gamma=0.01, kernel=linear;, score=-8.709 total time=   0.0s\n",
      "[CV 5/5] END C=1, epsilon=0.1, gamma=0.01, kernel=linear;, score=-10.808 total time=   0.0s\n"
     ]
    },
    {
     "name": "stdout",
     "output_type": "stream",
     "text": [
      "[CV 1/5] END C=1, epsilon=0.1, gamma=0.001, kernel=linear;, score=-8.954 total time=   0.0s\n",
      "[CV 2/5] END C=1, epsilon=0.1, gamma=0.001, kernel=linear;, score=-9.614 total time=   0.0s\n",
      "[CV 3/5] END C=1, epsilon=0.1, gamma=0.001, kernel=linear;, score=-9.260 total time=   0.0s\n",
      "[CV 4/5] END C=1, epsilon=0.1, gamma=0.001, kernel=linear;, score=-8.709 total time=   0.0s\n",
      "[CV 5/5] END C=1, epsilon=0.1, gamma=0.001, kernel=linear;, score=-10.808 total time=   0.0s\n",
      "[CV 1/5] END C=1, epsilon=0.1, gamma=0.0001, kernel=linear;, score=-8.954 total time=   0.0s\n",
      "[CV 2/5] END C=1, epsilon=0.1, gamma=0.0001, kernel=linear;, score=-9.614 total time=   0.0s\n",
      "[CV 3/5] END C=1, epsilon=0.1, gamma=0.0001, kernel=linear;, score=-9.260 total time=   0.0s\n",
      "[CV 4/5] END C=1, epsilon=0.1, gamma=0.0001, kernel=linear;, score=-8.709 total time=   0.0s\n",
      "[CV 5/5] END C=1, epsilon=0.1, gamma=0.0001, kernel=linear;, score=-10.808 total time=   0.0s\n",
      "[CV 1/5] END C=1, epsilon=0.2, gamma=1, kernel=linear;, score=-8.948 total time=   0.0s\n",
      "[CV 2/5] END C=1, epsilon=0.2, gamma=1, kernel=linear;, score=-9.613 total time=   0.0s\n",
      "[CV 3/5] END C=1, epsilon=0.2, gamma=1, kernel=linear;, score=-9.267 total time=   0.0s\n",
      "[CV 4/5] END C=1, epsilon=0.2, gamma=1, kernel=linear;, score=-8.637 total time=   0.0s\n",
      "[CV 5/5] END C=1, epsilon=0.2, gamma=1, kernel=linear;, score=-10.755 total time=   0.0s\n",
      "[CV 1/5] END C=1, epsilon=0.2, gamma=0.1, kernel=linear;, score=-8.948 total time=   0.0s\n",
      "[CV 2/5] END C=1, epsilon=0.2, gamma=0.1, kernel=linear;, score=-9.613 total time=   0.0s\n",
      "[CV 3/5] END C=1, epsilon=0.2, gamma=0.1, kernel=linear;, score=-9.267 total time=   0.0s\n",
      "[CV 4/5] END C=1, epsilon=0.2, gamma=0.1, kernel=linear;, score=-8.637 total time=   0.0s\n",
      "[CV 5/5] END C=1, epsilon=0.2, gamma=0.1, kernel=linear;, score=-10.755 total time=   0.0s\n",
      "[CV 1/5] END C=1, epsilon=0.2, gamma=0.01, kernel=linear;, score=-8.948 total time=   0.0s\n",
      "[CV 2/5] END C=1, epsilon=0.2, gamma=0.01, kernel=linear;, score=-9.613 total time=   0.0s\n",
      "[CV 3/5] END C=1, epsilon=0.2, gamma=0.01, kernel=linear;, score=-9.267 total time=   0.0s\n",
      "[CV 4/5] END C=1, epsilon=0.2, gamma=0.01, kernel=linear;, score=-8.637 total time=   0.0s\n",
      "[CV 5/5] END C=1, epsilon=0.2, gamma=0.01, kernel=linear;, score=-10.755 total time=   0.0s\n",
      "[CV 1/5] END C=1, epsilon=0.2, gamma=0.001, kernel=linear;, score=-8.948 total time=   0.0s\n",
      "[CV 2/5] END C=1, epsilon=0.2, gamma=0.001, kernel=linear;, score=-9.613 total time=   0.0s\n",
      "[CV 3/5] END C=1, epsilon=0.2, gamma=0.001, kernel=linear;, score=-9.267 total time=   0.0s\n",
      "[CV 4/5] END C=1, epsilon=0.2, gamma=0.001, kernel=linear;, score=-8.637 total time=   0.0s\n",
      "[CV 5/5] END C=1, epsilon=0.2, gamma=0.001, kernel=linear;, score=-10.755 total time=   0.0s\n",
      "[CV 1/5] END C=1, epsilon=0.2, gamma=0.0001, kernel=linear;, score=-8.948 total time=   0.0s\n",
      "[CV 2/5] END C=1, epsilon=0.2, gamma=0.0001, kernel=linear;, score=-9.613 total time=   0.0s\n",
      "[CV 3/5] END C=1, epsilon=0.2, gamma=0.0001, kernel=linear;, score=-9.267 total time=   0.0s\n",
      "[CV 4/5] END C=1, epsilon=0.2, gamma=0.0001, kernel=linear;, score=-8.637 total time=   0.0s\n",
      "[CV 5/5] END C=1, epsilon=0.2, gamma=0.0001, kernel=linear;, score=-10.755 total time=   0.0s\n",
      "[CV 1/5] END C=1, epsilon=0.3, gamma=1, kernel=linear;, score=-8.968 total time=   0.0s\n",
      "[CV 2/5] END C=1, epsilon=0.3, gamma=1, kernel=linear;, score=-9.642 total time=   0.0s\n",
      "[CV 3/5] END C=1, epsilon=0.3, gamma=1, kernel=linear;, score=-9.244 total time=   0.0s\n",
      "[CV 4/5] END C=1, epsilon=0.3, gamma=1, kernel=linear;, score=-8.658 total time=   0.0s\n",
      "[CV 5/5] END C=1, epsilon=0.3, gamma=1, kernel=linear;, score=-10.800 total time=   0.0s\n",
      "[CV 1/5] END C=1, epsilon=0.3, gamma=0.1, kernel=linear;, score=-8.968 total time=   0.0s\n",
      "[CV 2/5] END C=1, epsilon=0.3, gamma=0.1, kernel=linear;, score=-9.642 total time=   0.0s\n",
      "[CV 3/5] END C=1, epsilon=0.3, gamma=0.1, kernel=linear;, score=-9.244 total time=   0.0s\n",
      "[CV 4/5] END C=1, epsilon=0.3, gamma=0.1, kernel=linear;, score=-8.658 total time=   0.0s\n",
      "[CV 5/5] END C=1, epsilon=0.3, gamma=0.1, kernel=linear;, score=-10.800 total time=   0.0s\n",
      "[CV 1/5] END C=1, epsilon=0.3, gamma=0.01, kernel=linear;, score=-8.968 total time=   0.0s\n",
      "[CV 2/5] END C=1, epsilon=0.3, gamma=0.01, kernel=linear;, score=-9.642 total time=   0.0s\n",
      "[CV 3/5] END C=1, epsilon=0.3, gamma=0.01, kernel=linear;, score=-9.244 total time=   0.0s\n",
      "[CV 4/5] END C=1, epsilon=0.3, gamma=0.01, kernel=linear;, score=-8.658 total time=   0.0s\n",
      "[CV 5/5] END C=1, epsilon=0.3, gamma=0.01, kernel=linear;, score=-10.800 total time=   0.0s\n",
      "[CV 1/5] END C=1, epsilon=0.3, gamma=0.001, kernel=linear;, score=-8.968 total time=   0.0s\n",
      "[CV 2/5] END C=1, epsilon=0.3, gamma=0.001, kernel=linear;, score=-9.642 total time=   0.0s\n",
      "[CV 3/5] END C=1, epsilon=0.3, gamma=0.001, kernel=linear;, score=-9.244 total time=   0.0s\n",
      "[CV 4/5] END C=1, epsilon=0.3, gamma=0.001, kernel=linear;, score=-8.658 total time=   0.0s\n",
      "[CV 5/5] END C=1, epsilon=0.3, gamma=0.001, kernel=linear;, score=-10.800 total time=   0.0s\n",
      "[CV 1/5] END C=1, epsilon=0.3, gamma=0.0001, kernel=linear;, score=-8.968 total time=   0.0s\n",
      "[CV 2/5] END C=1, epsilon=0.3, gamma=0.0001, kernel=linear;, score=-9.642 total time=   0.0s\n",
      "[CV 3/5] END C=1, epsilon=0.3, gamma=0.0001, kernel=linear;, score=-9.244 total time=   0.0s\n",
      "[CV 4/5] END C=1, epsilon=0.3, gamma=0.0001, kernel=linear;, score=-8.658 total time=   0.0s\n",
      "[CV 5/5] END C=1, epsilon=0.3, gamma=0.0001, kernel=linear;, score=-10.800 total time=   0.0s\n",
      "[CV 1/5] END C=10, epsilon=0.1, gamma=1, kernel=linear;, score=-8.546 total time=   0.0s\n",
      "[CV 2/5] END C=10, epsilon=0.1, gamma=1, kernel=linear;, score=-9.545 total time=   0.0s\n",
      "[CV 3/5] END C=10, epsilon=0.1, gamma=1, kernel=linear;, score=-9.394 total time=   0.0s\n",
      "[CV 4/5] END C=10, epsilon=0.1, gamma=1, kernel=linear;, score=-8.128 total time=   0.0s\n",
      "[CV 5/5] END C=10, epsilon=0.1, gamma=1, kernel=linear;, score=-10.526 total time=   0.0s\n",
      "[CV 1/5] END C=10, epsilon=0.1, gamma=0.1, kernel=linear;, score=-8.546 total time=   0.0s\n",
      "[CV 2/5] END C=10, epsilon=0.1, gamma=0.1, kernel=linear;, score=-9.545 total time=   0.0s\n",
      "[CV 3/5] END C=10, epsilon=0.1, gamma=0.1, kernel=linear;, score=-9.394 total time=   0.0s\n",
      "[CV 4/5] END C=10, epsilon=0.1, gamma=0.1, kernel=linear;, score=-8.128 total time=   0.0s\n",
      "[CV 5/5] END C=10, epsilon=0.1, gamma=0.1, kernel=linear;, score=-10.526 total time=   0.0s\n",
      "[CV 1/5] END C=10, epsilon=0.1, gamma=0.01, kernel=linear;, score=-8.546 total time=   0.0s\n",
      "[CV 2/5] END C=10, epsilon=0.1, gamma=0.01, kernel=linear;, score=-9.545 total time=   0.0s\n",
      "[CV 3/5] END C=10, epsilon=0.1, gamma=0.01, kernel=linear;, score=-9.394 total time=   0.0s\n",
      "[CV 4/5] END C=10, epsilon=0.1, gamma=0.01, kernel=linear;, score=-8.128 total time=   0.0s\n",
      "[CV 5/5] END C=10, epsilon=0.1, gamma=0.01, kernel=linear;, score=-10.526 total time=   0.0s\n",
      "[CV 1/5] END C=10, epsilon=0.1, gamma=0.001, kernel=linear;, score=-8.546 total time=   0.0s\n",
      "[CV 2/5] END C=10, epsilon=0.1, gamma=0.001, kernel=linear;, score=-9.545 total time=   0.0s\n",
      "[CV 3/5] END C=10, epsilon=0.1, gamma=0.001, kernel=linear;, score=-9.394 total time=   0.0s\n",
      "[CV 4/5] END C=10, epsilon=0.1, gamma=0.001, kernel=linear;, score=-8.128 total time=   0.0s\n",
      "[CV 5/5] END C=10, epsilon=0.1, gamma=0.001, kernel=linear;, score=-10.526 total time=   0.0s\n",
      "[CV 1/5] END C=10, epsilon=0.1, gamma=0.0001, kernel=linear;, score=-8.546 total time=   0.0s\n",
      "[CV 2/5] END C=10, epsilon=0.1, gamma=0.0001, kernel=linear;, score=-9.545 total time=   0.0s\n",
      "[CV 3/5] END C=10, epsilon=0.1, gamma=0.0001, kernel=linear;, score=-9.394 total time=   0.0s\n",
      "[CV 4/5] END C=10, epsilon=0.1, gamma=0.0001, kernel=linear;, score=-8.128 total time=   0.0s\n",
      "[CV 5/5] END C=10, epsilon=0.1, gamma=0.0001, kernel=linear;, score=-10.526 total time=   0.0s\n",
      "[CV 1/5] END C=10, epsilon=0.2, gamma=1, kernel=linear;, score=-8.580 total time=   0.0s\n",
      "[CV 2/5] END C=10, epsilon=0.2, gamma=1, kernel=linear;, score=-9.555 total time=   0.0s\n",
      "[CV 3/5] END C=10, epsilon=0.2, gamma=1, kernel=linear;, score=-9.413 total time=   0.0s\n",
      "[CV 4/5] END C=10, epsilon=0.2, gamma=1, kernel=linear;, score=-8.157 total time=   0.0s\n",
      "[CV 5/5] END C=10, epsilon=0.2, gamma=1, kernel=linear;, score=-10.503 total time=   0.0s\n",
      "[CV 1/5] END C=10, epsilon=0.2, gamma=0.1, kernel=linear;, score=-8.580 total time=   0.0s\n",
      "[CV 2/5] END C=10, epsilon=0.2, gamma=0.1, kernel=linear;, score=-9.555 total time=   0.0s\n",
      "[CV 3/5] END C=10, epsilon=0.2, gamma=0.1, kernel=linear;, score=-9.413 total time=   0.0s\n"
     ]
    },
    {
     "name": "stdout",
     "output_type": "stream",
     "text": [
      "[CV 4/5] END C=10, epsilon=0.2, gamma=0.1, kernel=linear;, score=-8.157 total time=   0.0s\n",
      "[CV 5/5] END C=10, epsilon=0.2, gamma=0.1, kernel=linear;, score=-10.503 total time=   0.0s\n",
      "[CV 1/5] END C=10, epsilon=0.2, gamma=0.01, kernel=linear;, score=-8.580 total time=   0.0s\n",
      "[CV 2/5] END C=10, epsilon=0.2, gamma=0.01, kernel=linear;, score=-9.555 total time=   0.0s\n",
      "[CV 3/5] END C=10, epsilon=0.2, gamma=0.01, kernel=linear;, score=-9.413 total time=   0.0s\n",
      "[CV 4/5] END C=10, epsilon=0.2, gamma=0.01, kernel=linear;, score=-8.157 total time=   0.0s\n",
      "[CV 5/5] END C=10, epsilon=0.2, gamma=0.01, kernel=linear;, score=-10.503 total time=   0.0s\n",
      "[CV 1/5] END C=10, epsilon=0.2, gamma=0.001, kernel=linear;, score=-8.580 total time=   0.0s\n",
      "[CV 2/5] END C=10, epsilon=0.2, gamma=0.001, kernel=linear;, score=-9.555 total time=   0.0s\n",
      "[CV 3/5] END C=10, epsilon=0.2, gamma=0.001, kernel=linear;, score=-9.413 total time=   0.0s\n",
      "[CV 4/5] END C=10, epsilon=0.2, gamma=0.001, kernel=linear;, score=-8.157 total time=   0.0s\n",
      "[CV 5/5] END C=10, epsilon=0.2, gamma=0.001, kernel=linear;, score=-10.503 total time=   0.0s\n",
      "[CV 1/5] END C=10, epsilon=0.2, gamma=0.0001, kernel=linear;, score=-8.580 total time=   0.0s\n",
      "[CV 2/5] END C=10, epsilon=0.2, gamma=0.0001, kernel=linear;, score=-9.555 total time=   0.0s\n",
      "[CV 3/5] END C=10, epsilon=0.2, gamma=0.0001, kernel=linear;, score=-9.413 total time=   0.0s\n",
      "[CV 4/5] END C=10, epsilon=0.2, gamma=0.0001, kernel=linear;, score=-8.157 total time=   0.0s\n",
      "[CV 5/5] END C=10, epsilon=0.2, gamma=0.0001, kernel=linear;, score=-10.503 total time=   0.0s\n",
      "[CV 1/5] END C=10, epsilon=0.3, gamma=1, kernel=linear;, score=-8.619 total time=   0.0s\n",
      "[CV 2/5] END C=10, epsilon=0.3, gamma=1, kernel=linear;, score=-9.546 total time=   0.0s\n",
      "[CV 3/5] END C=10, epsilon=0.3, gamma=1, kernel=linear;, score=-9.405 total time=   0.1s\n",
      "[CV 4/5] END C=10, epsilon=0.3, gamma=1, kernel=linear;, score=-8.129 total time=   0.0s\n",
      "[CV 5/5] END C=10, epsilon=0.3, gamma=1, kernel=linear;, score=-10.511 total time=   0.0s\n",
      "[CV 1/5] END C=10, epsilon=0.3, gamma=0.1, kernel=linear;, score=-8.619 total time=   0.0s\n",
      "[CV 2/5] END C=10, epsilon=0.3, gamma=0.1, kernel=linear;, score=-9.546 total time=   0.0s\n",
      "[CV 3/5] END C=10, epsilon=0.3, gamma=0.1, kernel=linear;, score=-9.405 total time=   0.0s\n",
      "[CV 4/5] END C=10, epsilon=0.3, gamma=0.1, kernel=linear;, score=-8.129 total time=   0.0s\n",
      "[CV 5/5] END C=10, epsilon=0.3, gamma=0.1, kernel=linear;, score=-10.511 total time=   0.0s\n",
      "[CV 1/5] END C=10, epsilon=0.3, gamma=0.01, kernel=linear;, score=-8.619 total time=   0.0s\n",
      "[CV 2/5] END C=10, epsilon=0.3, gamma=0.01, kernel=linear;, score=-9.546 total time=   0.0s\n",
      "[CV 3/5] END C=10, epsilon=0.3, gamma=0.01, kernel=linear;, score=-9.405 total time=   0.0s\n",
      "[CV 4/5] END C=10, epsilon=0.3, gamma=0.01, kernel=linear;, score=-8.129 total time=   0.0s\n",
      "[CV 5/5] END C=10, epsilon=0.3, gamma=0.01, kernel=linear;, score=-10.511 total time=   0.0s\n",
      "[CV 1/5] END C=10, epsilon=0.3, gamma=0.001, kernel=linear;, score=-8.619 total time=   0.0s\n",
      "[CV 2/5] END C=10, epsilon=0.3, gamma=0.001, kernel=linear;, score=-9.546 total time=   0.0s\n",
      "[CV 3/5] END C=10, epsilon=0.3, gamma=0.001, kernel=linear;, score=-9.405 total time=   0.0s\n",
      "[CV 4/5] END C=10, epsilon=0.3, gamma=0.001, kernel=linear;, score=-8.129 total time=   0.0s\n",
      "[CV 5/5] END C=10, epsilon=0.3, gamma=0.001, kernel=linear;, score=-10.511 total time=   0.0s\n",
      "[CV 1/5] END C=10, epsilon=0.3, gamma=0.0001, kernel=linear;, score=-8.619 total time=   0.0s\n",
      "[CV 2/5] END C=10, epsilon=0.3, gamma=0.0001, kernel=linear;, score=-9.546 total time=   0.0s\n",
      "[CV 3/5] END C=10, epsilon=0.3, gamma=0.0001, kernel=linear;, score=-9.405 total time=   0.0s\n",
      "[CV 4/5] END C=10, epsilon=0.3, gamma=0.0001, kernel=linear;, score=-8.129 total time=   0.0s\n",
      "[CV 5/5] END C=10, epsilon=0.3, gamma=0.0001, kernel=linear;, score=-10.511 total time=   0.0s\n",
      "[CV 1/5] END C=100, epsilon=0.1, gamma=1, kernel=linear;, score=-8.526 total time=   0.1s\n",
      "[CV 2/5] END C=100, epsilon=0.1, gamma=1, kernel=linear;, score=-9.560 total time=   0.1s\n",
      "[CV 3/5] END C=100, epsilon=0.1, gamma=1, kernel=linear;, score=-9.423 total time=   0.1s\n",
      "[CV 4/5] END C=100, epsilon=0.1, gamma=1, kernel=linear;, score=-8.114 total time=   0.1s\n",
      "[CV 5/5] END C=100, epsilon=0.1, gamma=1, kernel=linear;, score=-10.520 total time=   0.1s\n",
      "[CV 1/5] END C=100, epsilon=0.1, gamma=0.1, kernel=linear;, score=-8.526 total time=   0.1s\n",
      "[CV 2/5] END C=100, epsilon=0.1, gamma=0.1, kernel=linear;, score=-9.560 total time=   0.1s\n",
      "[CV 3/5] END C=100, epsilon=0.1, gamma=0.1, kernel=linear;, score=-9.423 total time=   0.1s\n",
      "[CV 4/5] END C=100, epsilon=0.1, gamma=0.1, kernel=linear;, score=-8.114 total time=   0.1s\n",
      "[CV 5/5] END C=100, epsilon=0.1, gamma=0.1, kernel=linear;, score=-10.520 total time=   0.1s\n",
      "[CV 1/5] END C=100, epsilon=0.1, gamma=0.01, kernel=linear;, score=-8.526 total time=   0.1s\n",
      "[CV 2/5] END C=100, epsilon=0.1, gamma=0.01, kernel=linear;, score=-9.560 total time=   0.1s\n",
      "[CV 3/5] END C=100, epsilon=0.1, gamma=0.01, kernel=linear;, score=-9.423 total time=   0.1s\n",
      "[CV 4/5] END C=100, epsilon=0.1, gamma=0.01, kernel=linear;, score=-8.114 total time=   0.1s\n",
      "[CV 5/5] END C=100, epsilon=0.1, gamma=0.01, kernel=linear;, score=-10.520 total time=   0.1s\n",
      "[CV 1/5] END C=100, epsilon=0.1, gamma=0.001, kernel=linear;, score=-8.526 total time=   0.1s\n",
      "[CV 2/5] END C=100, epsilon=0.1, gamma=0.001, kernel=linear;, score=-9.560 total time=   0.1s\n",
      "[CV 3/5] END C=100, epsilon=0.1, gamma=0.001, kernel=linear;, score=-9.423 total time=   0.1s\n",
      "[CV 4/5] END C=100, epsilon=0.1, gamma=0.001, kernel=linear;, score=-8.114 total time=   0.1s\n",
      "[CV 5/5] END C=100, epsilon=0.1, gamma=0.001, kernel=linear;, score=-10.520 total time=   0.1s\n",
      "[CV 1/5] END C=100, epsilon=0.1, gamma=0.0001, kernel=linear;, score=-8.526 total time=   0.1s\n",
      "[CV 2/5] END C=100, epsilon=0.1, gamma=0.0001, kernel=linear;, score=-9.560 total time=   0.1s\n",
      "[CV 3/5] END C=100, epsilon=0.1, gamma=0.0001, kernel=linear;, score=-9.423 total time=   0.1s\n",
      "[CV 4/5] END C=100, epsilon=0.1, gamma=0.0001, kernel=linear;, score=-8.114 total time=   0.1s\n",
      "[CV 5/5] END C=100, epsilon=0.1, gamma=0.0001, kernel=linear;, score=-10.520 total time=   0.1s\n",
      "[CV 1/5] END C=100, epsilon=0.2, gamma=1, kernel=linear;, score=-8.562 total time=   0.1s\n",
      "[CV 2/5] END C=100, epsilon=0.2, gamma=1, kernel=linear;, score=-9.556 total time=   0.1s\n",
      "[CV 3/5] END C=100, epsilon=0.2, gamma=1, kernel=linear;, score=-9.431 total time=   0.1s\n",
      "[CV 4/5] END C=100, epsilon=0.2, gamma=1, kernel=linear;, score=-8.133 total time=   0.0s\n",
      "[CV 5/5] END C=100, epsilon=0.2, gamma=1, kernel=linear;, score=-10.483 total time=   0.1s\n",
      "[CV 1/5] END C=100, epsilon=0.2, gamma=0.1, kernel=linear;, score=-8.562 total time=   0.1s\n",
      "[CV 2/5] END C=100, epsilon=0.2, gamma=0.1, kernel=linear;, score=-9.556 total time=   0.1s\n",
      "[CV 3/5] END C=100, epsilon=0.2, gamma=0.1, kernel=linear;, score=-9.431 total time=   0.1s\n",
      "[CV 4/5] END C=100, epsilon=0.2, gamma=0.1, kernel=linear;, score=-8.133 total time=   0.0s\n",
      "[CV 5/5] END C=100, epsilon=0.2, gamma=0.1, kernel=linear;, score=-10.483 total time=   0.1s\n",
      "[CV 1/5] END C=100, epsilon=0.2, gamma=0.01, kernel=linear;, score=-8.562 total time=   0.1s\n",
      "[CV 2/5] END C=100, epsilon=0.2, gamma=0.01, kernel=linear;, score=-9.556 total time=   0.1s\n",
      "[CV 3/5] END C=100, epsilon=0.2, gamma=0.01, kernel=linear;, score=-9.431 total time=   0.1s\n",
      "[CV 4/5] END C=100, epsilon=0.2, gamma=0.01, kernel=linear;, score=-8.133 total time=   0.0s\n",
      "[CV 5/5] END C=100, epsilon=0.2, gamma=0.01, kernel=linear;, score=-10.483 total time=   0.1s\n",
      "[CV 1/5] END C=100, epsilon=0.2, gamma=0.001, kernel=linear;, score=-8.562 total time=   0.1s\n",
      "[CV 2/5] END C=100, epsilon=0.2, gamma=0.001, kernel=linear;, score=-9.556 total time=   0.1s\n",
      "[CV 3/5] END C=100, epsilon=0.2, gamma=0.001, kernel=linear;, score=-9.431 total time=   0.1s\n",
      "[CV 4/5] END C=100, epsilon=0.2, gamma=0.001, kernel=linear;, score=-8.133 total time=   0.0s\n",
      "[CV 5/5] END C=100, epsilon=0.2, gamma=0.001, kernel=linear;, score=-10.483 total time=   0.1s\n",
      "[CV 1/5] END C=100, epsilon=0.2, gamma=0.0001, kernel=linear;, score=-8.562 total time=   0.1s\n",
      "[CV 2/5] END C=100, epsilon=0.2, gamma=0.0001, kernel=linear;, score=-9.556 total time=   0.1s\n"
     ]
    },
    {
     "name": "stdout",
     "output_type": "stream",
     "text": [
      "[CV 3/5] END C=100, epsilon=0.2, gamma=0.0001, kernel=linear;, score=-9.431 total time=   0.1s\n",
      "[CV 4/5] END C=100, epsilon=0.2, gamma=0.0001, kernel=linear;, score=-8.133 total time=   0.0s\n",
      "[CV 5/5] END C=100, epsilon=0.2, gamma=0.0001, kernel=linear;, score=-10.483 total time=   0.1s\n",
      "[CV 1/5] END C=100, epsilon=0.3, gamma=1, kernel=linear;, score=-8.600 total time=   0.1s\n",
      "[CV 2/5] END C=100, epsilon=0.3, gamma=1, kernel=linear;, score=-9.556 total time=   0.1s\n",
      "[CV 3/5] END C=100, epsilon=0.3, gamma=1, kernel=linear;, score=-9.415 total time=   0.1s\n",
      "[CV 4/5] END C=100, epsilon=0.3, gamma=1, kernel=linear;, score=-8.103 total time=   0.1s\n",
      "[CV 5/5] END C=100, epsilon=0.3, gamma=1, kernel=linear;, score=-10.507 total time=   0.1s\n",
      "[CV 1/5] END C=100, epsilon=0.3, gamma=0.1, kernel=linear;, score=-8.600 total time=   0.1s\n",
      "[CV 2/5] END C=100, epsilon=0.3, gamma=0.1, kernel=linear;, score=-9.556 total time=   0.1s\n",
      "[CV 3/5] END C=100, epsilon=0.3, gamma=0.1, kernel=linear;, score=-9.415 total time=   0.1s\n",
      "[CV 4/5] END C=100, epsilon=0.3, gamma=0.1, kernel=linear;, score=-8.103 total time=   0.1s\n",
      "[CV 5/5] END C=100, epsilon=0.3, gamma=0.1, kernel=linear;, score=-10.507 total time=   0.1s\n",
      "[CV 1/5] END C=100, epsilon=0.3, gamma=0.01, kernel=linear;, score=-8.600 total time=   0.1s\n",
      "[CV 2/5] END C=100, epsilon=0.3, gamma=0.01, kernel=linear;, score=-9.556 total time=   0.1s\n",
      "[CV 3/5] END C=100, epsilon=0.3, gamma=0.01, kernel=linear;, score=-9.415 total time=   0.1s\n",
      "[CV 4/5] END C=100, epsilon=0.3, gamma=0.01, kernel=linear;, score=-8.103 total time=   0.1s\n",
      "[CV 5/5] END C=100, epsilon=0.3, gamma=0.01, kernel=linear;, score=-10.507 total time=   0.1s\n",
      "[CV 1/5] END C=100, epsilon=0.3, gamma=0.001, kernel=linear;, score=-8.600 total time=   0.1s\n",
      "[CV 2/5] END C=100, epsilon=0.3, gamma=0.001, kernel=linear;, score=-9.556 total time=   0.1s\n",
      "[CV 3/5] END C=100, epsilon=0.3, gamma=0.001, kernel=linear;, score=-9.415 total time=   0.1s\n",
      "[CV 4/5] END C=100, epsilon=0.3, gamma=0.001, kernel=linear;, score=-8.103 total time=   0.1s\n",
      "[CV 5/5] END C=100, epsilon=0.3, gamma=0.001, kernel=linear;, score=-10.507 total time=   0.1s\n",
      "[CV 1/5] END C=100, epsilon=0.3, gamma=0.0001, kernel=linear;, score=-8.600 total time=   0.1s\n",
      "[CV 2/5] END C=100, epsilon=0.3, gamma=0.0001, kernel=linear;, score=-9.556 total time=   0.1s\n",
      "[CV 3/5] END C=100, epsilon=0.3, gamma=0.0001, kernel=linear;, score=-9.415 total time=   0.1s\n",
      "[CV 4/5] END C=100, epsilon=0.3, gamma=0.0001, kernel=linear;, score=-8.103 total time=   0.1s\n",
      "[CV 5/5] END C=100, epsilon=0.3, gamma=0.0001, kernel=linear;, score=-10.507 total time=   0.1s\n",
      "[CV 1/5] END C=1000, epsilon=0.1, gamma=1, kernel=linear;, score=-8.525 total time=   0.9s\n",
      "[CV 2/5] END C=1000, epsilon=0.1, gamma=1, kernel=linear;, score=-9.564 total time=   0.8s\n",
      "[CV 3/5] END C=1000, epsilon=0.1, gamma=1, kernel=linear;, score=-9.425 total time=   0.9s\n",
      "[CV 4/5] END C=1000, epsilon=0.1, gamma=1, kernel=linear;, score=-8.114 total time=   0.9s\n",
      "[CV 5/5] END C=1000, epsilon=0.1, gamma=1, kernel=linear;, score=-10.520 total time=   0.7s\n",
      "[CV 1/5] END C=1000, epsilon=0.1, gamma=0.1, kernel=linear;, score=-8.525 total time=   0.9s\n",
      "[CV 2/5] END C=1000, epsilon=0.1, gamma=0.1, kernel=linear;, score=-9.564 total time=   0.8s\n",
      "[CV 3/5] END C=1000, epsilon=0.1, gamma=0.1, kernel=linear;, score=-9.425 total time=   0.9s\n",
      "[CV 4/5] END C=1000, epsilon=0.1, gamma=0.1, kernel=linear;, score=-8.114 total time=   0.9s\n",
      "[CV 5/5] END C=1000, epsilon=0.1, gamma=0.1, kernel=linear;, score=-10.520 total time=   0.7s\n",
      "[CV 1/5] END C=1000, epsilon=0.1, gamma=0.01, kernel=linear;, score=-8.525 total time=   0.9s\n",
      "[CV 2/5] END C=1000, epsilon=0.1, gamma=0.01, kernel=linear;, score=-9.564 total time=   0.8s\n",
      "[CV 3/5] END C=1000, epsilon=0.1, gamma=0.01, kernel=linear;, score=-9.425 total time=   0.9s\n",
      "[CV 4/5] END C=1000, epsilon=0.1, gamma=0.01, kernel=linear;, score=-8.114 total time=   0.9s\n",
      "[CV 5/5] END C=1000, epsilon=0.1, gamma=0.01, kernel=linear;, score=-10.520 total time=   0.8s\n",
      "[CV 1/5] END C=1000, epsilon=0.1, gamma=0.001, kernel=linear;, score=-8.525 total time=   0.9s\n",
      "[CV 2/5] END C=1000, epsilon=0.1, gamma=0.001, kernel=linear;, score=-9.564 total time=   0.8s\n",
      "[CV 3/5] END C=1000, epsilon=0.1, gamma=0.001, kernel=linear;, score=-9.425 total time=   0.9s\n",
      "[CV 4/5] END C=1000, epsilon=0.1, gamma=0.001, kernel=linear;, score=-8.114 total time=   0.9s\n",
      "[CV 5/5] END C=1000, epsilon=0.1, gamma=0.001, kernel=linear;, score=-10.520 total time=   0.7s\n",
      "[CV 1/5] END C=1000, epsilon=0.1, gamma=0.0001, kernel=linear;, score=-8.525 total time=   0.9s\n",
      "[CV 2/5] END C=1000, epsilon=0.1, gamma=0.0001, kernel=linear;, score=-9.564 total time=   0.8s\n",
      "[CV 3/5] END C=1000, epsilon=0.1, gamma=0.0001, kernel=linear;, score=-9.425 total time=   0.9s\n",
      "[CV 4/5] END C=1000, epsilon=0.1, gamma=0.0001, kernel=linear;, score=-8.114 total time=   0.9s\n",
      "[CV 5/5] END C=1000, epsilon=0.1, gamma=0.0001, kernel=linear;, score=-10.520 total time=   0.8s\n",
      "[CV 1/5] END C=1000, epsilon=0.2, gamma=1, kernel=linear;, score=-8.562 total time=   0.9s\n",
      "[CV 2/5] END C=1000, epsilon=0.2, gamma=1, kernel=linear;, score=-9.556 total time=   1.1s\n",
      "[CV 3/5] END C=1000, epsilon=0.2, gamma=1, kernel=linear;, score=-9.432 total time=   1.1s\n",
      "[CV 4/5] END C=1000, epsilon=0.2, gamma=1, kernel=linear;, score=-8.131 total time=   0.9s\n",
      "[CV 5/5] END C=1000, epsilon=0.2, gamma=1, kernel=linear;, score=-10.482 total time=   0.7s\n",
      "[CV 1/5] END C=1000, epsilon=0.2, gamma=0.1, kernel=linear;, score=-8.562 total time=   0.9s\n",
      "[CV 2/5] END C=1000, epsilon=0.2, gamma=0.1, kernel=linear;, score=-9.556 total time=   1.1s\n",
      "[CV 3/5] END C=1000, epsilon=0.2, gamma=0.1, kernel=linear;, score=-9.432 total time=   1.1s\n",
      "[CV 4/5] END C=1000, epsilon=0.2, gamma=0.1, kernel=linear;, score=-8.131 total time=   0.8s\n",
      "[CV 5/5] END C=1000, epsilon=0.2, gamma=0.1, kernel=linear;, score=-10.482 total time=   0.7s\n",
      "[CV 1/5] END C=1000, epsilon=0.2, gamma=0.01, kernel=linear;, score=-8.562 total time=   0.9s\n",
      "[CV 2/5] END C=1000, epsilon=0.2, gamma=0.01, kernel=linear;, score=-9.556 total time=   1.1s\n",
      "[CV 3/5] END C=1000, epsilon=0.2, gamma=0.01, kernel=linear;, score=-9.432 total time=   1.1s\n",
      "[CV 4/5] END C=1000, epsilon=0.2, gamma=0.01, kernel=linear;, score=-8.131 total time=   0.9s\n",
      "[CV 5/5] END C=1000, epsilon=0.2, gamma=0.01, kernel=linear;, score=-10.482 total time=   0.7s\n",
      "[CV 1/5] END C=1000, epsilon=0.2, gamma=0.001, kernel=linear;, score=-8.562 total time=   0.9s\n",
      "[CV 2/5] END C=1000, epsilon=0.2, gamma=0.001, kernel=linear;, score=-9.556 total time=   1.1s\n",
      "[CV 3/5] END C=1000, epsilon=0.2, gamma=0.001, kernel=linear;, score=-9.432 total time=   1.1s\n",
      "[CV 4/5] END C=1000, epsilon=0.2, gamma=0.001, kernel=linear;, score=-8.131 total time=   0.9s\n",
      "[CV 5/5] END C=1000, epsilon=0.2, gamma=0.001, kernel=linear;, score=-10.482 total time=   0.7s\n",
      "[CV 1/5] END C=1000, epsilon=0.2, gamma=0.0001, kernel=linear;, score=-8.562 total time=   1.0s\n",
      "[CV 2/5] END C=1000, epsilon=0.2, gamma=0.0001, kernel=linear;, score=-9.556 total time=   1.1s\n",
      "[CV 3/5] END C=1000, epsilon=0.2, gamma=0.0001, kernel=linear;, score=-9.432 total time=   1.1s\n",
      "[CV 4/5] END C=1000, epsilon=0.2, gamma=0.0001, kernel=linear;, score=-8.131 total time=   0.9s\n",
      "[CV 5/5] END C=1000, epsilon=0.2, gamma=0.0001, kernel=linear;, score=-10.482 total time=   0.7s\n"
     ]
    }
   ],
   "source": [
    "grid.fit(X_train,y_train)"
   ]
  },
  {
   "cell_type": "code",
   "execution_count": 20,
   "metadata": {
    "colab": {
     "base_uri": "https://localhost:8080/"
    },
    "executionInfo": {
     "elapsed": 438,
     "status": "ok",
     "timestamp": 1693386232071,
     "user": {
      "displayName": "Vipil Khapre",
      "userId": "11657927420291305997"
     },
     "user_tz": -330
    },
    "id": "aiAhWmiEqIq8",
    "outputId": "824dce68-e429-4788-e842-6ebc502e80d2"
   },
   "outputs": [
    {
     "data": {
      "text/plain": [
       "{'C': 100, 'epsilon': 0.1, 'gamma': 1, 'kernel': 'linear'}"
      ]
     },
     "execution_count": 20,
     "metadata": {},
     "output_type": "execute_result"
    }
   ],
   "source": [
    "grid.best_params_"
   ]
  },
  {
   "cell_type": "code",
   "execution_count": 21,
   "metadata": {
    "colab": {
     "base_uri": "https://localhost:8080/"
    },
    "executionInfo": {
     "elapsed": 15,
     "status": "ok",
     "timestamp": 1693386235597,
     "user": {
      "displayName": "Vipil Khapre",
      "userId": "11657927420291305997"
     },
     "user_tz": -330
    },
    "id": "m4Xa7ScMqIq9",
    "outputId": "db38dc21-091f-481a-9155-b090bfc9fa5c"
   },
   "outputs": [
    {
     "name": "stdout",
     "output_type": "stream",
     "text": [
      "0.9991560503529233\n"
     ]
    }
   ],
   "source": [
    "## Prediction\n",
    "y_pred4=grid.predict(X_test)\n",
    "print(r2_score(y_test,y_pred4))"
   ]
  },
  {
   "cell_type": "code",
   "execution_count": null,
   "metadata": {
    "id": "VUH5RByIqIq9"
   },
   "outputs": [],
   "source": []
  }
 ],
 "metadata": {
  "colab": {
   "provenance": []
  },
  "kernelspec": {
   "display_name": "Python 3 (ipykernel)",
   "language": "python",
   "name": "python3"
  },
  "language_info": {
   "codemirror_mode": {
    "name": "ipython",
    "version": 3
   },
   "file_extension": ".py",
   "mimetype": "text/x-python",
   "name": "python",
   "nbconvert_exporter": "python",
   "pygments_lexer": "ipython3",
   "version": "3.9.13"
  }
 },
 "nbformat": 4,
 "nbformat_minor": 1
}
